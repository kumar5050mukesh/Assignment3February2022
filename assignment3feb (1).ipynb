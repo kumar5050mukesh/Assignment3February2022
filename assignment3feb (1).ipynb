{
 "cells": [
  {
   "cell_type": "code",
   "execution_count": 17,
   "id": "91f65520-3f18-4716-99d2-bc6572c228a4",
   "metadata": {},
   "outputs": [
    {
     "data": {
      "text/plain": [
       "[1, 3, 5, 7, 9, 11, 13, 15, 17, 19, 21, 23, 25]"
      ]
     },
     "execution_count": 17,
     "metadata": {},
     "output_type": "execute_result"
    }
   ],
   "source": [
    "/#Q1. Which keyword is used to create a function? Create a function to return a list of odd numbers in the\n",
    "#range of 1 to 25.\n",
    "\n",
    "'''ans: def keyword is used for the creating a function'''\n",
    "'''using comprehension'''\n",
    "def test():\n",
    "    return [i for i in range(1,26,2)]\n",
    "\n",
    "test()\n",
    "'''using list'''\n",
    "def test():\n",
    "    return list(range(1, 26, 2))\n",
    "\n",
    "test()\n"
   ]
  },
  {
   "cell_type": "code",
   "execution_count": 27,
   "id": "d62da970-0a40-447f-b7a9-a9e47e18898d",
   "metadata": {},
   "outputs": [
    {
     "data": {
      "text/plain": [
       "'ramshyamrty'"
      ]
     },
     "execution_count": 27,
     "metadata": {},
     "output_type": "execute_result"
    }
   ],
   "source": [
    "'''Q2. Why *args and **kwargs is used in some functions? Create a function each for *args and **kwargs\n",
    "to demonstrate their use.'''\n",
    "\n",
    "'''ans: in *args the single asterik sign represents the any number and type of argument canbe passed\n",
    " **kwargs the parameter should be in key and the value pair'''\n",
    "\n",
    "\n",
    "def test(*args):\n",
    "\ty=''\n",
    "\tfor i in list(args):\n",
    "\t\ty=y+i\n",
    "\treturn y\n",
    "test('ram','shyam','rty')\n",
    "\n",
    "        \n",
    "    "
   ]
  },
  {
   "cell_type": "code",
   "execution_count": 26,
   "id": "ea976923-0093-4003-9c9a-f46bb08d8831",
   "metadata": {},
   "outputs": [
    {
     "data": {
      "text/plain": [
       "'fghhhjjhhfkfkkjjjjjjkkll'"
      ]
     },
     "execution_count": 26,
     "metadata": {},
     "output_type": "execute_result"
    }
   ],
   "source": [
    "test('fghhhjj','hhfkfkk','jjjjjjkkll')"
   ]
  },
  {
   "cell_type": "code",
   "execution_count": 32,
   "id": "9d98f768-bd99-424b-8c37-5baf7d7ed03b",
   "metadata": {},
   "outputs": [
    {
     "data": {
      "text/plain": [
       "{'key1': 5, 'key2': 6, 'key3': 8}"
      ]
     },
     "execution_count": 32,
     "metadata": {},
     "output_type": "execute_result"
    }
   ],
   "source": [
    "def test(**kwargs):\n",
    "    return {k:v for k,v in kwargs.items()}\n",
    "\n",
    "test(key1=5, key2=6, key3=8)\n"
   ]
  },
  {
   "cell_type": "code",
   "execution_count": 33,
   "id": "1e2d2cb6-5b4f-4f69-957e-8d68a1eeb2c6",
   "metadata": {},
   "outputs": [
    {
     "data": {
      "text/plain": [
       "{'key1': 5, 'key2': 6, 'key3': 8, 'key4': 7, 'key5': 8, 'key6': 9}"
      ]
     },
     "execution_count": 33,
     "metadata": {},
     "output_type": "execute_result"
    }
   ],
   "source": [
    "test(key1=5, key2=6, key3=8,key4=7,key5=8,key6=9)"
   ]
  },
  {
   "cell_type": "code",
   "execution_count": 52,
   "id": "3d8e5f09-3792-4d53-b806-38cca00954a5",
   "metadata": {},
   "outputs": [
    {
     "data": {
      "text/plain": [
       "[2, 4, 6, 8, 10]"
      ]
     },
     "execution_count": 52,
     "metadata": {},
     "output_type": "execute_result"
    }
   ],
   "source": [
    "'''Q3. What is an iterator in python? Name the method used to initialise the iterator object and the method\n",
    "used for iteration. Use these methods to print the first five elements of the given list [2, 4, 6, 8, 10, 12, 14,\n",
    "16, 18, 20].'''\n",
    "lst = [2, 4, 6, 8, 10, 12, 14, 16, 18, 20]\n",
    "ele = iter(lst)\n",
    "[next(ele) for i in range(5)]"
   ]
  },
  {
   "cell_type": "code",
   "execution_count": 23,
   "id": "5cf4f91e-b9e6-4e3f-9afa-6f1978b13c14",
   "metadata": {},
   "outputs": [
    {
     "name": "stdin",
     "output_type": "stream",
     "text": [
      "please enter the number up to which you want the cube 5\n"
     ]
    },
    {
     "name": "stdout",
     "output_type": "stream",
     "text": [
      "0\n",
      "1\n",
      "8\n",
      "27\n",
      "64\n"
     ]
    }
   ],
   "source": [
    "#Q4. What is a generator function in python? Why yield keyword is used? Give an example of a generator\n",
    "#function.\n",
    "num=int(input('please enter the number up to which you want the cube'))\n",
    "def cube_numbers(a):\n",
    "    list_=[]\n",
    "    for i in range(a):\n",
    "        list_.append(i**3)\n",
    "    return list_\n",
    "cube=cube_numbers(num)\n",
    "for i in cube:\n",
    "\tprint(i)"
   ]
  },
  {
   "cell_type": "code",
   "execution_count": 24,
   "id": "a933cfc8-adea-427f-b3da-0b7b8c6d2365",
   "metadata": {},
   "outputs": [
    {
     "name": "stdin",
     "output_type": "stream",
     "text": [
      "please enter the number up to which you want the cube 6\n"
     ]
    },
    {
     "name": "stdout",
     "output_type": "stream",
     "text": [
      "0\n",
      "1\n",
      "8\n",
      "27\n",
      "64\n",
      "125\n"
     ]
    }
   ],
   "source": [
    "#Q4 using generator function \n",
    "num=int(input('please enter the number up to which you want the cube'))\n",
    "def cube_numbers(a):\n",
    "    for i in range(a):\n",
    "    \tyield i*i*i\n",
    "cube=cube_numbers(num)\n",
    "for i in cube:\n",
    "\tprint(i)"
   ]
  },
  {
   "cell_type": "code",
   "execution_count": 7,
   "id": "bb307de5-9a9d-4063-a531-8830a3d6d355",
   "metadata": {},
   "outputs": [
    {
     "data": {
      "text/plain": [
       "[2, 3, 5, 7, 11, 13, 17, 19, 23, 29, 31, 37, 41, 43, 47, 53, 59, 61, 67, 71]"
      ]
     },
     "execution_count": 7,
     "metadata": {},
     "output_type": "execute_result"
    }
   ],
   "source": [
    "#Q5. Create a generator function for prime numbers less than 1000. Use the next() method to print the\n",
    "#first 20 prime numbers.\n",
    "def test():\n",
    "    arr_ = []\n",
    "    for num in range(2, 1000):\n",
    "        test = True\n",
    "        for i in range(2, int(num / 2) + 1):\n",
    "            if num % i == 0:\n",
    "                test = False\n",
    "                break\n",
    "        if test:\n",
    "            yield num\n",
    "\n",
    "\n",
    "test1 = iter(test())\n",
    "[next(test1) for i in range(20)] \n"
   ]
  },
  {
   "cell_type": "code",
   "execution_count": 11,
   "id": "82b06cc7-f1d0-4903-a635-5c8bfb62f18c",
   "metadata": {},
   "outputs": [
    {
     "name": "stdout",
     "output_type": "stream",
     "text": [
      "1\n",
      "1\n",
      "2\n",
      "3\n",
      "5\n",
      "8\n",
      "13\n",
      "21\n",
      "34\n",
      "55\n"
     ]
    }
   ],
   "source": [
    "#Q6. Write a python program to print the first 10 Fibonacci numbers using a while loop.\n",
    "def test(num):\n",
    "    a,b=0,1\n",
    "    c=0\n",
    "    while num>0:\n",
    "        a=b\n",
    "        b=c\n",
    "        c=a+b\n",
    "        print(c)\n",
    "        num=num-1\n",
    "test(10)\n",
    "        \n",
    "        "
   ]
  },
  {
   "cell_type": "code",
   "execution_count": 13,
   "id": "97a67c09-acbc-447f-8c47-7f2add6fdd75",
   "metadata": {},
   "outputs": [
    {
     "data": {
      "text/plain": [
       "['p', 'w', 's', 'k', 'i', 'l', 'l', 's']"
      ]
     },
     "execution_count": 13,
     "metadata": {},
     "output_type": "execute_result"
    }
   ],
   "source": [
    "#Q7. Write a List Comprehension to iterate through the given string: ‘pwskills’.\n",
    "#Expected output: ['p', 'w', 's', 'k', 'i', 'l', 'l', 's']\n",
    "string_='pwskills'\n",
    "[string_[i] for i in range(len(string_))]"
   ]
  },
  {
   "cell_type": "code",
   "execution_count": 2,
   "id": "e5d82ea5-93af-4b1b-8f31-efc0b3c5160a",
   "metadata": {},
   "outputs": [
    {
     "name": "stdout",
     "output_type": "stream",
     "text": [
      "palindrome\n",
      "not palindrome\n"
     ]
    }
   ],
   "source": [
    "#Q8. Write a python program to check whether a given number is Palindrome or not using a while loop.\n",
    "def test(num):\n",
    "    str_num = str(num)\n",
    "    i = int(len(str_num) / 2)\n",
    "    while i > -1:\n",
    "        if str_num[i] != str_num[len(str_num) - i - 1]:\n",
    "            return print('not palindrome')\n",
    "        i = i - 1\n",
    "    return print('palindrome')\n",
    "\n",
    "test(12344321)\n",
    "test(12345665421)\n"
   ]
  },
  {
   "cell_type": "code",
   "execution_count": 4,
   "id": "6a3d5aae-6d75-433e-92b4-e8400b9207e2",
   "metadata": {},
   "outputs": [
    {
     "name": "stdout",
     "output_type": "stream",
     "text": [
      "[1, 3, 5, 7, 9, 11, 13, 15, 17, 19, 21, 23, 25, 27, 29, 31, 33, 35, 37, 39, 41, 43, 45, 47, 49, 51, 53, 55, 57, 59, 61, 63, 65, 67, 69, 71, 73, 75, 77, 79, 81, 83, 85, 87, 89, 91, 93, 95, 97, 99]\n"
     ]
    }
   ],
   "source": [
    "# Q9. Write a code to print odd numbers from 1 to 100 using list comprehension.\n",
    "list=[i for i in range(1,100,2)]\n",
    "print(list)"
   ]
  },
  {
   "cell_type": "code",
   "execution_count": null,
   "id": "2d40d67c-177c-473b-8cbd-7aec1ef7d4ce",
   "metadata": {},
   "outputs": [],
   "source": []
  },
  {
   "cell_type": "code",
   "execution_count": null,
   "id": "52f8dd14-f3e4-4d51-b91f-231f53c9f07b",
   "metadata": {},
   "outputs": [],
   "source": []
  },
  {
   "cell_type": "code",
   "execution_count": null,
   "id": "ca2475e7-d6c3-4ffe-af1d-1c797ac8cbac",
   "metadata": {},
   "outputs": [],
   "source": []
  }
 ],
 "metadata": {
  "kernelspec": {
   "display_name": "Python 3 (ipykernel)",
   "language": "python",
   "name": "python3"
  },
  "language_info": {
   "codemirror_mode": {
    "name": "ipython",
    "version": 3
   },
   "file_extension": ".py",
   "mimetype": "text/x-python",
   "name": "python",
   "nbconvert_exporter": "python",
   "pygments_lexer": "ipython3",
   "version": "3.10.8"
  }
 },
 "nbformat": 4,
 "nbformat_minor": 5
}
